{
 "cells": [
  {
   "cell_type": "markdown",
   "id": "283487ad-1c89-4c63-b7ea-a44b6f580202",
   "metadata": {},
   "source": [
    "In this chapter we build a nn with several layers. We group each layer by two characters and pass it through to the next layer etc.\n",
    "This allows neural network to learn more intricate relationship between characters."
   ]
  },
  {
   "cell_type": "code",
   "execution_count": 1,
   "id": "690f5ff9",
   "metadata": {},
   "outputs": [],
   "source": [
    "import torch\n",
    "import torch.nn.functional as F\n",
    "import matplotlib.pyplot as plt\n",
    "%matplotlib inline"
   ]
  },
  {
   "cell_type": "code",
   "execution_count": 2,
   "id": "91edd01a",
   "metadata": {},
   "outputs": [
    {
     "data": {
      "text/plain": [
       "(32033, ['emma', 'olivia', 'ava'])"
      ]
     },
     "execution_count": 2,
     "metadata": {},
     "output_type": "execute_result"
    }
   ],
   "source": [
    "def read_names(path):\n",
    "    with open(path) as fileobj:\n",
    "        names = [line.strip() for line in fileobj]\n",
    "    return names\n",
    "\n",
    "NAMES = read_names('names.txt')\n",
    "len(NAMES), NAMES[:3]"
   ]
  },
  {
   "cell_type": "code",
   "execution_count": 3,
   "id": "2ad15ddd",
   "metadata": {},
   "outputs": [
    {
     "data": {
      "text/plain": [
       "{'.': 0,\n",
       " 'a': 1,\n",
       " 'b': 2,\n",
       " 'c': 3,\n",
       " 'd': 4,\n",
       " 'e': 5,\n",
       " 'f': 6,\n",
       " 'g': 7,\n",
       " 'h': 8,\n",
       " 'i': 9,\n",
       " 'j': 10,\n",
       " 'k': 11,\n",
       " 'l': 12,\n",
       " 'm': 13,\n",
       " 'n': 14,\n",
       " 'o': 15,\n",
       " 'p': 16,\n",
       " 'q': 17,\n",
       " 'r': 18,\n",
       " 's': 19,\n",
       " 't': 20,\n",
       " 'u': 21,\n",
       " 'v': 22,\n",
       " 'w': 23,\n",
       " 'x': 24,\n",
       " 'y': 25,\n",
       " 'z': 26}"
      ]
     },
     "execution_count": 3,
     "metadata": {},
     "output_type": "execute_result"
    }
   ],
   "source": [
    "import string\n",
    "\n",
    "CHAR_TO_CLASS = {char: i for i, char in enumerate('.' + string.ascii_lowercase)}\n",
    "CLASS_TO_CHAR = {i: char for char, i in CHAR_TO_CLASS.items()}\n",
    "\n",
    "CHAR_TO_CLASS"
   ]
  },
  {
   "cell_type": "code",
   "execution_count": 4,
   "id": "9a444430",
   "metadata": {},
   "outputs": [
    {
     "data": {
      "text/plain": [
       "(228146,\n",
       " [('........', 'e'),\n",
       "  ('.......e', 'm'),\n",
       "  ('......em', 'm'),\n",
       "  ('.....emm', 'a'),\n",
       "  ('....emma', '.'),\n",
       "  ('........', 'o')])"
      ]
     },
     "execution_count": 4,
     "metadata": {},
     "output_type": "execute_result"
    }
   ],
   "source": [
    "CONTEXT_LEN = 8\n",
    "\n",
    "def build_training_data(names, context_len):\n",
    "    training_data = []\n",
    "    prefix = '.' * context_len\n",
    "    for a_name in names:\n",
    "        a_name += '.'\n",
    "        full_name = f'{prefix}{a_name}'\n",
    "        for i, next_char in enumerate(a_name):\n",
    "            context = full_name[i:i + context_len]\n",
    "            training_data.append((context, next_char))\n",
    "    return training_data\n",
    "\n",
    "TRAINING_DATA = build_training_data(NAMES, CONTEXT_LEN)\n",
    "len(TRAINING_DATA), TRAINING_DATA[:6]"
   ]
  },
  {
   "cell_type": "code",
   "execution_count": 5,
   "id": "353af74e",
   "metadata": {},
   "outputs": [
    {
     "name": "stdout",
     "output_type": "stream",
     "text": [
      "INPUTS.shape=torch.Size([228146, 8]),  INPUTS[:3]=tensor([[ 0,  0,  0,  0,  0,  0,  0,  0],\n",
      "        [ 0,  0,  0,  0,  0,  0,  0,  5],\n",
      "        [ 0,  0,  0,  0,  0,  0,  5, 13]]), OUTPUTS.shape=torch.Size([228146]), OUTPUTS[:3]=tensor([ 5, 13, 13])\n"
     ]
    }
   ],
   "source": [
    "NUM_CLASSES = len(CLASS_TO_CHAR)\n",
    "\n",
    "def build_training_set(training_set):\n",
    "    inputs = []\n",
    "    outputs = []\n",
    "    for context, next_char in training_set:\n",
    "        an_input = [CHAR_TO_CLASS[char] for char in context]\n",
    "        inputs.append(an_input)\n",
    "        \n",
    "        an_output = CHAR_TO_CLASS[next_char]\n",
    "        outputs.append(an_output)\n",
    "    inputs = torch.tensor(inputs)\n",
    "    outputs = torch.tensor(outputs)\n",
    "    return inputs, outputs\n",
    "\n",
    "\n",
    "INPUTS, OUTPUTS = build_training_set(TRAINING_DATA)\n",
    "print(f'{INPUTS.shape=},  {INPUTS[:3]=}, {OUTPUTS.shape=}, {OUTPUTS[:3]=}')"
   ]
  },
  {
   "cell_type": "code",
   "execution_count": 16,
   "id": "735a02ea",
   "metadata": {},
   "outputs": [
    {
     "name": "stdout",
     "output_type": "stream",
     "text": [
      "time.time()=1692691331.70 i=0 loss.data=tensor(6.1722)\n",
      "time.time()=1692691333.93 i=10000 loss.data=tensor(2.4635)\n",
      "time.time()=1692691336.08 i=20000 loss.data=tensor(2.6268)\n",
      "time.time()=1692691338.20 i=30000 loss.data=tensor(2.7166)\n",
      "time.time()=1692691340.35 i=40000 loss.data=tensor(2.6262)\n",
      "time.time()=1692691342.55 i=50000 loss.data=tensor(2.9670)\n",
      "time.time()=1692691344.74 i=60000 loss.data=tensor(2.1504)\n",
      "time.time()=1692691346.93 i=70000 loss.data=tensor(2.2922)\n",
      "time.time()=1692691349.07 i=80000 loss.data=tensor(2.5321)\n",
      "time.time()=1692691351.25 i=90000 loss.data=tensor(2.8252)\n",
      "time.time()=1692691353.49 i=100000 loss.data=tensor(2.1493)\n",
      "time.time()=1692691355.65 i=110000 loss.data=tensor(2.5849)\n",
      "time.time()=1692691357.82 i=120000 loss.data=tensor(2.2349)\n",
      "time.time()=1692691360.03 i=130000 loss.data=tensor(2.3766)\n",
      "time.time()=1692691362.20 i=140000 loss.data=tensor(2.2092)\n",
      "time.time()=1692691364.35 i=150000 loss.data=tensor(2.3318)\n",
      "time.time()=1692691366.49 i=160000 loss.data=tensor(2.6784)\n",
      "time.time()=1692691368.65 i=170000 loss.data=tensor(2.2473)\n",
      "time.time()=1692691370.81 i=180000 loss.data=tensor(2.1733)\n",
      "time.time()=1692691372.97 i=190000 loss.data=tensor(2.3139)\n",
      "time.time()=1692691375.15 i=200000 loss.data=tensor(2.3422)\n",
      "time.time()=1692691377.29 i=210000 loss.data=tensor(2.0570)\n",
      "time.time()=1692691379.45 i=220000 loss.data=tensor(2.5626)\n",
      "time.time()=1692691381.58 i=230000 loss.data=tensor(2.2864)\n",
      "time.time()=1692691383.75 i=240000 loss.data=tensor(2.6672)\n",
      "time.time()=1692691385.89 i=250000 loss.data=tensor(2.2522)\n",
      "time.time()=1692691388.07 i=260000 loss.data=tensor(2.0489)\n",
      "time.time()=1692691390.23 i=270000 loss.data=tensor(2.3763)\n",
      "time.time()=1692691392.38 i=280000 loss.data=tensor(2.5837)\n",
      "time.time()=1692691394.54 i=290000 loss.data=tensor(2.2809)\n",
      "time.time()=1692691396.71 i=300000 loss.data=tensor(2.1679)\n",
      "time.time()=1692691398.90 i=310000 loss.data=tensor(2.3376)\n",
      "time.time()=1692691401.02 i=320000 loss.data=tensor(2.4758)\n",
      "time.time()=1692691403.17 i=330000 loss.data=tensor(2.5817)\n",
      "time.time()=1692691405.33 i=340000 loss.data=tensor(2.2514)\n",
      "time.time()=1692691407.48 i=350000 loss.data=tensor(2.1333)\n",
      "time.time()=1692691409.65 i=360000 loss.data=tensor(2.1101)\n",
      "time.time()=1692691411.79 i=370000 loss.data=tensor(2.2128)\n",
      "time.time()=1692691413.96 i=380000 loss.data=tensor(2.2766)\n",
      "time.time()=1692691416.10 i=390000 loss.data=tensor(2.4487)\n",
      "loss=tensor(1.9707, grad_fn=<NegBackward0>)\n"
     ]
    }
   ],
   "source": [
    "import time\n",
    "\n",
    "\n",
    "def requires_grad(t):\n",
    "    t.requires_grad = True\n",
    "    return t\n",
    "\n",
    "C_DIM = 10\n",
    "\n",
    "\n",
    "class EmbLayer:\n",
    "    def __init__(self):\n",
    "        # we place each character into C_DIM dimensional vector\n",
    "        self._emb = requires_grad(torch.randn(NUM_CLASSES, C_DIM))\n",
    "\n",
    "    def forward(self, inputs):\n",
    "        result = self._emb[inputs]\n",
    "        return result.view(inputs.shape[0], -1, C_DIM * 2)\n",
    "\n",
    "    def parameters(self):\n",
    "        return [self._emb]\n",
    "\n",
    "    \n",
    "\n",
    "class Layer:\n",
    "    def __init__(self, input_size, output_size, nonlinearity):\n",
    "        self._w = requires_grad(torch.randn(input_size, output_size))\n",
    "        self._b = requires_grad(torch.randn(output_size))\n",
    "        self._nonlinearity = nonlinearity\n",
    "\n",
    "    def forward(self, inputs):\n",
    "        output = inputs @ self._w + self._b\n",
    "        return self._nonlinearity(output)\n",
    "\n",
    "    def parameters(self):\n",
    "        return [self._w, self._b]\n",
    "\n",
    "\n",
    "class SqueezingLayer:\n",
    "    def forward(self, inputs):\n",
    "        return inputs.squeeze(dim=1)\n",
    "\n",
    "    def parameters(self):\n",
    "        return []\n",
    "\n",
    "\n",
    "class GroupingLayer:\n",
    "    def forward(self, inputs):\n",
    "        return inputs.view(inputs.shape[0], -1, C_DIM * 2)\n",
    "\n",
    "    def parameters(self):\n",
    "        return []\n",
    "\n",
    "\n",
    "def all_parameters(network):\n",
    "    parameters = []\n",
    "    for a_layer in network:\n",
    "        parameters.extend(a_layer.parameters())\n",
    "    return parameters\n",
    "\n",
    "\n",
    "def softmax(logits, smooth=1e-4):\n",
    "    counts = logits.exp()\n",
    "    probs = counts / counts.sum(1, keepdim=True) + smooth\n",
    "    return probs\n",
    "\n",
    "\n",
    "def train(inputs, outputs, num_iterations=100_000, verbose=False):\n",
    "    batch_size = 32\n",
    "    \n",
    "    assert len(inputs) == len(outputs)\n",
    "    \n",
    "    network = [\n",
    "        EmbLayer(),\n",
    "        # input = 8 characters\n",
    "        Layer(input_size=C_DIM * 2, output_size=C_DIM, nonlinearity=torch.tanh),\n",
    "        GroupingLayer(),\n",
    "        # input = 4 \"characters\"\n",
    "        Layer(input_size=C_DIM * 2, output_size=C_DIM, nonlinearity=torch.tanh),\n",
    "        GroupingLayer(),\n",
    "        # input = 2 \"characters\"\n",
    "        Layer(input_size=C_DIM * 2, output_size=C_DIM, nonlinearity=torch.tanh),\n",
    "        SqueezingLayer(),\n",
    "        # input = 1 \"character\"\n",
    "        Layer(input_size=C_DIM, output_size=NUM_CLASSES, nonlinearity=softmax),\n",
    "    ]\n",
    "\n",
    "    for i in range(num_iterations):\n",
    "        batch_indexes = torch.randint(0, inputs.shape[0], (batch_size,))\n",
    "        # inputs_batch.shape = (batch_size, CONTEXT_LEN)\n",
    "        inputs_batch = inputs[batch_indexes]\n",
    "        outputs_batch = outputs[batch_indexes]\n",
    "        probs = forward(inputs_batch, network)\n",
    "        m_probs = probs[torch.arange(len(probs)), outputs_batch]\n",
    "        loss = -(m_probs.log().mean())\n",
    "        loss.backward()\n",
    "        # learning_rate decay\n",
    "        learning_rate = 1e-1 if i < 100_000 else 1e-2\n",
    "        if verbose and i % 10000 == 0:\n",
    "            print(f'{time.time()=:.2f} {i=} {loss.data=}')\n",
    "            \n",
    "        for p in all_parameters(network):\n",
    "            p.data -= learning_rate * p.grad\n",
    "            p.grad = None\n",
    "    print(f'{loss=}')\n",
    "    return network\n",
    "\n",
    "\n",
    "def forward(inputs_batch, network):\n",
    "    outputs = inputs_batch\n",
    "    for a_layer in network:\n",
    "        outputs = a_layer.forward(outputs)\n",
    "    return outputs\n",
    "    \n",
    "\n",
    "TRAINING_SET_SIZE = 200_000\n",
    "NETWORK = train(\n",
    "    INPUTS[:TRAINING_SET_SIZE], \n",
    "    OUTPUTS[:TRAINING_SET_SIZE],\n",
    "    num_iterations=400_000, \n",
    "    verbose=True\n",
    ");"
   ]
  },
  {
   "cell_type": "code",
   "execution_count": 30,
   "id": "57a18b15-31bc-45e1-b9f6-1d3d64150537",
   "metadata": {},
   "outputs": [
    {
     "name": "stdout",
     "output_type": "stream",
     "text": [
      "sonsen\n",
      "sangiah\n",
      "amileet\n",
      "reson\n",
      "seltita\n"
     ]
    }
   ],
   "source": [
    "def generate_examples(network):\n",
    "    num_examples = 5\n",
    "    for _ in range(num_examples):\n",
    "        \n",
    "        context = '.' * CONTEXT_LEN\n",
    "        example = ''\n",
    "        while True:\n",
    "            cur_inputs = torch.tensor([[CHAR_TO_CLASS[char] for char in context]])\n",
    "            probs = forward(cur_inputs, network)\n",
    "            next_class = torch.multinomial(probs, 1).item()\n",
    "            next_char = CLASS_TO_CHAR[next_class]\n",
    "            if next_char == '.':\n",
    "                break\n",
    "            example += next_char\n",
    "            context = context[1:] + next_char\n",
    "        print(example)\n",
    "\n",
    "generate_examples(NETWORK)"
   ]
  },
  {
   "cell_type": "markdown",
   "id": "4cc1e565-8b84-4e60-8dfb-6bb6ea4b3eb3",
   "metadata": {},
   "source": [
    "Doesn't look like results from wavenet are much better than the results from mlp."
   ]
  }
 ],
 "metadata": {
  "kernelspec": {
   "display_name": "Python 3 (ipykernel)",
   "language": "python",
   "name": "python3"
  },
  "language_info": {
   "codemirror_mode": {
    "name": "ipython",
    "version": 3
   },
   "file_extension": ".py",
   "mimetype": "text/x-python",
   "name": "python",
   "nbconvert_exporter": "python",
   "pygments_lexer": "ipython3",
   "version": "3.9.6"
  }
 },
 "nbformat": 4,
 "nbformat_minor": 5
}
