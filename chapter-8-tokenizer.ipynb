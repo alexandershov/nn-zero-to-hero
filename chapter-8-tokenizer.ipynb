{
 "cells": [
  {
   "metadata": {},
   "cell_type": "markdown",
   "source": "In this chapter we build GPT tokenizer",
   "id": "1b0688dd10957157"
  },
  {
   "metadata": {},
   "cell_type": "markdown",
   "source": [
    "byte-pair encoding is pretty simple:\n",
    "* we determine a most popular pair of bytes\n",
    "* we invent a new byte and replace the pair with the new byte\n",
    "* repeat"
   ],
   "id": "751121ad7b2de009"
  },
  {
   "metadata": {
    "collapsed": true,
    "ExecuteTime": {
     "end_time": "2025-08-02T10:13:34.904178Z",
     "start_time": "2025-08-02T10:13:34.897595Z"
    }
   },
   "cell_type": "code",
   "source": [
    "import collections\n",
    "import itertools\n",
    "\n",
    "\n",
    "def byte_pair_encode(text: str, num_iterations: int) -> list[int]:\n",
    "    encoded = list(text.encode('utf-8'))\n",
    "    new_bytes = itertools.count(256)\n",
    "    for _ in range(num_iterations):\n",
    "        if len(encoded) < 2:\n",
    "            break\n",
    "        pair = find_most_popular_pair(encoded)\n",
    "        encoded = replace(encoded, pair, next(new_bytes))\n",
    "    return encoded\n",
    "\n",
    "\n",
    "def find_most_popular_pair(encoded: list[int]) -> tuple[int, int]:\n",
    "    counts = collections.Counter()\n",
    "    prev = None\n",
    "    for cur in encoded:\n",
    "        if prev is not None:\n",
    "            pair = (prev, cur)\n",
    "            counts[pair] += 1\n",
    "        prev = cur\n",
    "    return counts.most_common(1)[0][0]\n",
    "\n",
    "\n",
    "def replace(encoded: list[int], what: tuple[int, int], replacement: int):\n",
    "    result = []\n",
    "    state = []\n",
    "    for cur in encoded:\n",
    "        # invariant: len(state) < 2\n",
    "        state.append(cur)\n",
    "        if tuple(state) == what:\n",
    "            result.append(replacement)\n",
    "            state = []\n",
    "        elif len(state) == 2:\n",
    "            # not a match, we can add the first element, since it's not part of the `what` pair\n",
    "            result.append(state[0])\n",
    "            state.pop(0)\n",
    "\n",
    "    # invariant: len(state) < 2\n",
    "    result.extend(state)\n",
    "    return result"
   ],
   "id": "initial_id",
   "outputs": [],
   "execution_count": 27
  },
  {
   "metadata": {
    "ExecuteTime": {
     "end_time": "2025-08-02T10:19:42.742574Z",
     "start_time": "2025-08-02T10:19:42.738154Z"
    }
   },
   "cell_type": "code",
   "source": "byte_pair_encode(\"aaabdaaabac\", num_iterations=3)",
   "id": "e318b8c06151337b",
   "outputs": [
    {
     "data": {
      "text/plain": [
       "[258, 100, 258, 97, 99]"
      ]
     },
     "execution_count": 37,
     "metadata": {},
     "output_type": "execute_result"
    }
   ],
   "execution_count": 37
  },
  {
   "metadata": {
    "ExecuteTime": {
     "end_time": "2025-08-02T10:18:28.498491Z",
     "start_time": "2025-08-02T10:18:28.493346Z"
    }
   },
   "cell_type": "code",
   "source": "len(byte_pair_encode(\"приветики вам, хочу проверить byte-pair encoding\", num_iterations=20))",
   "id": "32320570491459d9",
   "outputs": [
    {
     "data": {
      "text/plain": [
       "39"
      ]
     },
     "execution_count": 32,
     "metadata": {},
     "output_type": "execute_result"
    }
   ],
   "execution_count": 32
  }
 ],
 "metadata": {
  "kernelspec": {
   "display_name": "Python 3",
   "language": "python",
   "name": "python3"
  },
  "language_info": {
   "codemirror_mode": {
    "name": "ipython",
    "version": 2
   },
   "file_extension": ".py",
   "mimetype": "text/x-python",
   "name": "python",
   "nbconvert_exporter": "python",
   "pygments_lexer": "ipython2",
   "version": "2.7.6"
  }
 },
 "nbformat": 4,
 "nbformat_minor": 5
}
