{
 "cells": [
  {
   "cell_type": "markdown",
   "id": "e6dba091-fc5d-4275-9786-69f3639b8202",
   "metadata": {},
   "source": [
    "## GPT\n",
    "In this chapter we will build GPT-model from scratch."
   ]
  },
  {
   "cell_type": "code",
   "execution_count": 42,
   "id": "a7f5a393-fffe-4830-8711-578560e9ac45",
   "metadata": {},
   "outputs": [],
   "source": [
    "import torch\n",
    "from torch import nn\n",
    "import torch.nn.functional as F\n",
    "import matplotlib.pyplot as plot\n",
    "%matplotlib inline"
   ]
  },
  {
   "cell_type": "markdown",
   "id": "6fbe4b21-485d-42f1-a387-ecdd7c7a38ad",
   "metadata": {},
   "source": [
    "First let's build a simple bigram model, that will prepare us to GPT architecture."
   ]
  },
  {
   "cell_type": "code",
   "execution_count": 5,
   "id": "c0c1eaed-44f0-43f4-8119-4bd7c56a6cd9",
   "metadata": {},
   "outputs": [
    {
     "name": "stdout",
     "output_type": "stream",
     "text": [
      "len(TEXT)=1115394\n"
     ]
    }
   ],
   "source": [
    "PATH = 'tinyshakespeare.txt'\n",
    "\n",
    "def read(path: str) -> str:\n",
    "    with open(path) as fileobj:\n",
    "        return fileobj.read()\n",
    "\n",
    "\n",
    "TEXT = read(PATH)\n",
    "print(f'{len(TEXT)=}')"
   ]
  },
  {
   "cell_type": "code",
   "execution_count": 11,
   "id": "336b1ed0-ca07-4b42-bf04-68e5c6b731ed",
   "metadata": {},
   "outputs": [
    {
     "name": "stdout",
     "output_type": "stream",
     "text": [
      "len(CHARS)=65, CHARS=\"\\n !$&',-.3:;?ABCDEFGHIJKLMNOPQRSTUVWXYZabcdefghijklmnopqrstuvwxyz\"\n"
     ]
    }
   ],
   "source": [
    "def get_chars(text: str) -> str:\n",
    "    return ''.join(sorted(set(text)))\n",
    "\n",
    "\n",
    "CHARS = get_chars(TEXT)\n",
    "print(f'{len(CHARS)=}, {CHARS=!r}')"
   ]
  },
  {
   "cell_type": "code",
   "execution_count": 17,
   "id": "dfa6f645-c40f-4156-ade4-84f9ccb4b0d2",
   "metadata": {},
   "outputs": [
    {
     "name": "stdout",
     "output_type": "stream",
     "text": [
      "as_tokens(\"test\")=tensor([58, 43, 57, 58])\n",
      "from_tokens(as_tokens(\"test\"))='test'\n"
     ]
    }
   ],
   "source": [
    "CHAR_TO_CLASS = {ch: i for i, ch in enumerate(CHARS)}\n",
    "CLASS_TO_CHAR = dict(enumerate(CHARS))\n",
    "\n",
    "def as_tokens(text: str) -> torch.Tensor:\n",
    "    return torch.tensor([CHAR_TO_CLASS[ch] for ch in text])\n",
    "\n",
    "\n",
    "def from_tokens(tokens: torch.Tensor) -> str:\n",
    "    chars = (CLASS_TO_CHAR[c.item()] for c in tokens)\n",
    "    return ''.join(chars)\n",
    "\n",
    "\n",
    "print(f'{as_tokens(\"test\")=}')\n",
    "print(f'{from_tokens(as_tokens(\"test\"))=}')"
   ]
  },
  {
   "cell_type": "code",
   "execution_count": 20,
   "id": "836bb723-2ab1-43bc-82eb-72fdb0c18180",
   "metadata": {},
   "outputs": [
    {
     "name": "stdout",
     "output_type": "stream",
     "text": [
      "len(TRAINING_SET)=1003854 len(VALIDATION_SET)=111540\n"
     ]
    }
   ],
   "source": [
    "def split_at(tokens, split):\n",
    "    i = int(len(tokens) * split)\n",
    "    return tokens[:i], tokens[i:]\n",
    "    \n",
    "TRAINING_SET, VALIDATION_SET = split_at(as_tokens(TEXT), 0.9)\n",
    "print(f'{len(TRAINING_SET)=} {len(VALIDATION_SET)=}')"
   ]
  },
  {
   "cell_type": "code",
   "execution_count": 40,
   "id": "1644d34d-0958-45cf-98fc-35ddbcf640fd",
   "metadata": {},
   "outputs": [],
   "source": [
    "# for use in SGD\n",
    "BATCH_SIZE = 32\n",
    "\n",
    "# how many tokens can our network see at most\n",
    "CONTEXT_LEN = 8\n",
    "\n",
    "\n",
    "def get_batch(training_set, batch_size=BATCH_SIZE, context_len=CONTEXT_LEN):\n",
    "    end_index = len(training_set) - context_len \n",
    "    # torch.randint is not inclusive\n",
    "    offsets = torch.randint(end_index, (batch_size,))\n",
    "    inputs = torch.stack([training_set[i:i+context_len] for i in offsets])\n",
    "    outputs = torch.stack([training_set[i+1:i + context_len + 1] for i in offsets])\n",
    "    # for each input in a batch the corresponding output is next character given current and all of the previous characters in the input\n",
    "    # inputs and outputs have the same shape, it's just that input uses all of the previous elements, it's just a storage optimization\n",
    "    return inputs, outputs\n",
    "\n",
    "\n"
   ]
  },
  {
   "cell_type": "code",
   "execution_count": 64,
   "id": "4035d411-f6b9-4cca-829d-b5fda0d5e161",
   "metadata": {},
   "outputs": [
    {
     "name": "stdout",
     "output_type": "stream",
     "text": [
      "loss=tensor(4.6535, grad_fn=<NllLossBackward0>)\n",
      "loss=tensor(2.4651, grad_fn=<NllLossBackward0>)\n",
      "loss=tensor(2.3875, grad_fn=<NllLossBackward0>)\n",
      "loss=tensor(2.4232, grad_fn=<NllLossBackward0>)\n",
      "loss=tensor(2.4819, grad_fn=<NllLossBackward0>)\n",
      "loss=tensor(2.3876, grad_fn=<NllLossBackward0>)\n",
      "loss=tensor(2.4621, grad_fn=<NllLossBackward0>)\n",
      "loss=tensor(2.3209, grad_fn=<NllLossBackward0>)\n",
      "loss=tensor(2.3721, grad_fn=<NllLossBackward0>)\n",
      "loss=tensor(2.3765, grad_fn=<NllLossBackward0>)\n",
      "text=\"Call me taks n, a.\\nImplartsthok'ss s.\\nILEN he wend mo bes\"\n"
     ]
    }
   ],
   "source": [
    "class BigramModel(nn.Module):\n",
    "    def __init__(self, vocab_size):\n",
    "        super().__init__()\n",
    "        # first nn.Embedding arg is size of the dictionary, second arg is a size of a single embedded vector\n",
    "        self.emb = nn.Embedding(vocab_size, vocab_size)\n",
    "\n",
    "    def forward(self, inputs, outputs=None):\n",
    "        # inputs.shape == outputs.shape == (BATCH_SIZE, CONTEXT_LEN) == (B, T)\n",
    "        logits = self.emb(inputs)\n",
    "        # logits.shape == (B, T, C), C == vocab_size\n",
    "        B, T, C = logits.shape\n",
    "        \n",
    "        if outputs is None:\n",
    "            loss = None\n",
    "        else:\n",
    "            # .view(...) calls are to work around the F.cross_entropy argument expectations (C should be the second dimension)                    \n",
    "            logits = logits.view(B * T, C)\n",
    "            outputs = outputs.view(B * T)\n",
    "            loss = F.cross_entropy(logits, outputs)\n",
    "        return logits, loss\n",
    "\n",
    "    def generate(self, input_, max_chars_to_generate):\n",
    "        for _ in range(max_chars_to_generate):\n",
    "            logits, _ = self.forward(input_)\n",
    "            # logits.shape == (B, T, C)\n",
    "            logits = logits[:, -1, :]\n",
    "            # logits.shape == (B, C)\n",
    "            probs = F.softmax(logits, dim=1)\n",
    "            next_ = torch.multinomial(probs, num_samples=1)\n",
    "            # next_.shape == (B, 1)\n",
    "            input_ = torch.cat((input_, next_), dim=1)\n",
    "        return input_\n",
    "\n",
    "\n",
    "def train_and_generate(learning_rate=1e-2, num_iterations=1000, verbose=False, prompt=\"\"):\n",
    "    model = BigramModel(len(CHARS))\n",
    "    optimizer = torch.optim.AdamW(model.parameters(), lr=learning_rate)    \n",
    "    for i in range(num_iterations):\n",
    "        inputs, outputs = get_batch(TRAINING_SET)\n",
    "        _, loss = model(inputs, outputs)\n",
    "        if verbose and i % 1000 == 0:\n",
    "            print(f'{loss=}')\n",
    "        optimizer.zero_grad(set_to_none=True)\n",
    "        loss.backward()\n",
    "        optimizer.step()\n",
    "        \n",
    "    text = from_tokens(model.generate(as_tokens(prompt).view(1, -1), 50)[0])\n",
    "    print(f'{text=}')\n",
    "    return model\n",
    "\n",
    "\n",
    "MODEL = train_and_generate(verbose=True, num_iterations=10000, prompt=\"Call me\")"
   ]
  },
  {
   "cell_type": "code",
   "execution_count": null,
   "id": "d58cab81-ea36-4c65-8c1c-b4b5ac24f513",
   "metadata": {},
   "outputs": [],
   "source": []
  }
 ],
 "metadata": {
  "kernelspec": {
   "display_name": "Python 3 (ipykernel)",
   "language": "python",
   "name": "python3"
  },
  "language_info": {
   "codemirror_mode": {
    "name": "ipython",
    "version": 3
   },
   "file_extension": ".py",
   "mimetype": "text/x-python",
   "name": "python",
   "nbconvert_exporter": "python",
   "pygments_lexer": "ipython3",
   "version": "3.9.6"
  }
 },
 "nbformat": 4,
 "nbformat_minor": 5
}
