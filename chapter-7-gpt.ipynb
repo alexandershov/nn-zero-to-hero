{
 "cells": [
  {
   "cell_type": "markdown",
   "id": "e6dba091-fc5d-4275-9786-69f3639b8202",
   "metadata": {},
   "source": [
    "## GPT\n",
    "In this chapter we will build GPT-model from scratch."
   ]
  },
  {
   "cell_type": "code",
   "execution_count": 42,
   "id": "a7f5a393-fffe-4830-8711-578560e9ac45",
   "metadata": {},
   "outputs": [],
   "source": [
    "import torch\n",
    "from torch import nn\n",
    "import torch.nn.functional as F\n",
    "import matplotlib.pyplot as plot\n",
    "%matplotlib inline"
   ]
  },
  {
   "cell_type": "markdown",
   "id": "6fbe4b21-485d-42f1-a387-ecdd7c7a38ad",
   "metadata": {},
   "source": [
    "First let's build a simple bigram model, that will prepare us to GPT architecture."
   ]
  },
  {
   "cell_type": "code",
   "execution_count": 5,
   "id": "c0c1eaed-44f0-43f4-8119-4bd7c56a6cd9",
   "metadata": {},
   "outputs": [
    {
     "name": "stdout",
     "output_type": "stream",
     "text": [
      "len(TEXT)=1115394\n"
     ]
    }
   ],
   "source": [
    "PATH = 'tinyshakespeare.txt'\n",
    "\n",
    "def read(path: str) -> str:\n",
    "    with open(path) as fileobj:\n",
    "        return fileobj.read()\n",
    "\n",
    "\n",
    "TEXT = read(PATH)\n",
    "print(f'{len(TEXT)=}')"
   ]
  },
  {
   "cell_type": "code",
   "execution_count": 11,
   "id": "336b1ed0-ca07-4b42-bf04-68e5c6b731ed",
   "metadata": {},
   "outputs": [
    {
     "name": "stdout",
     "output_type": "stream",
     "text": [
      "len(CHARS)=65, CHARS=\"\\n !$&',-.3:;?ABCDEFGHIJKLMNOPQRSTUVWXYZabcdefghijklmnopqrstuvwxyz\"\n"
     ]
    }
   ],
   "source": [
    "def get_chars(text: str) -> str:\n",
    "    return ''.join(sorted(set(text)))\n",
    "\n",
    "\n",
    "CHARS = get_chars(TEXT)\n",
    "print(f'{len(CHARS)=}, {CHARS=!r}')"
   ]
  },
  {
   "cell_type": "code",
   "execution_count": 17,
   "id": "dfa6f645-c40f-4156-ade4-84f9ccb4b0d2",
   "metadata": {},
   "outputs": [
    {
     "name": "stdout",
     "output_type": "stream",
     "text": [
      "as_tokens(\"test\")=tensor([58, 43, 57, 58])\n",
      "from_tokens(as_tokens(\"test\"))='test'\n"
     ]
    }
   ],
   "source": [
    "CHAR_TO_CLASS = {ch: i for i, ch in enumerate(CHARS)}\n",
    "CLASS_TO_CHAR = dict(enumerate(CHARS))\n",
    "\n",
    "def as_tokens(text: str) -> torch.Tensor:\n",
    "    return torch.tensor([CHAR_TO_CLASS[ch] for ch in text])\n",
    "\n",
    "\n",
    "def from_tokens(tokens: torch.Tensor) -> str:\n",
    "    chars = (CLASS_TO_CHAR[c.item()] for c in tokens)\n",
    "    return ''.join(chars)\n",
    "\n",
    "\n",
    "print(f'{as_tokens(\"test\")=}')\n",
    "print(f'{from_tokens(as_tokens(\"test\"))=}')"
   ]
  },
  {
   "cell_type": "code",
   "execution_count": 20,
   "id": "836bb723-2ab1-43bc-82eb-72fdb0c18180",
   "metadata": {},
   "outputs": [
    {
     "name": "stdout",
     "output_type": "stream",
     "text": [
      "len(TRAINING_SET)=1003854 len(VALIDATION_SET)=111540\n"
     ]
    }
   ],
   "source": [
    "def split_at(tokens, split):\n",
    "    i = int(len(tokens) * split)\n",
    "    return tokens[:i], tokens[i:]\n",
    "    \n",
    "TRAINING_SET, VALIDATION_SET = split_at(as_tokens(TEXT), 0.9)\n",
    "print(f'{len(TRAINING_SET)=} {len(VALIDATION_SET)=}')"
   ]
  },
  {
   "cell_type": "code",
   "execution_count": 40,
   "id": "1644d34d-0958-45cf-98fc-35ddbcf640fd",
   "metadata": {},
   "outputs": [],
   "source": [
    "# for use in SGD\n",
    "BATCH_SIZE = 32\n",
    "\n",
    "# how many tokens can our network see at most\n",
    "CONTEXT_LEN = 8\n",
    "\n",
    "\n",
    "def get_batch(training_set, batch_size=BATCH_SIZE, context_len=CONTEXT_LEN):\n",
    "    end_index = len(training_set) - context_len \n",
    "    # torch.randint is not inclusive\n",
    "    offsets = torch.randint(end_index, (batch_size,))\n",
    "    inputs = torch.stack([training_set[i:i+context_len] for i in offsets])\n",
    "    outputs = torch.stack([training_set[i+1:i + context_len + 1] for i in offsets])\n",
    "    # for each input in a batch the corresponding output is next character given current and all of the previous characters in the input\n",
    "    # inputs and outputs have the same shape, it's just that input uses all of the previous elements, it's just a storage optimization\n",
    "    return inputs, outputs\n",
    "\n",
    "\n"
   ]
  },
  {
   "cell_type": "code",
   "execution_count": 69,
   "id": "4035d411-f6b9-4cca-829d-b5fda0d5e161",
   "metadata": {},
   "outputs": [
    {
     "name": "stdout",
     "output_type": "stream",
     "text": [
      "loss.item()=4.535597801208496\n",
      "loss.item()=2.5105106830596924\n",
      "loss.item()=2.4556617736816406\n",
      "loss.item()=2.4507646560668945\n",
      "loss.item()=2.512702226638794\n",
      "loss.item()=2.4667935371398926\n",
      "loss.item()=2.4720287322998047\n",
      "loss.item()=2.478483200073242\n",
      "loss.item()=2.372753381729126\n",
      "loss.item()=2.435739278793335\n",
      "\n",
      "Call mevot jurinotn: havedom't, w ndat, weraris qurrigerot, be in brk m rmpl\n",
      "Jarwoarnt aimasonee d H:-\n",
      "Thave thearamucll INGis\n",
      "s t\n",
      "Ancrt, Ed hus an me y thin\n",
      "\n"
     ]
    }
   ],
   "source": [
    "class BigramModel(nn.Module):\n",
    "    def __init__(self, vocab_size):\n",
    "        super().__init__()\n",
    "        # first nn.Embedding arg is size of the dictionary, second arg is a size of a single embedded vector\n",
    "        self.emb = nn.Embedding(vocab_size, vocab_size)\n",
    "\n",
    "    def forward(self, inputs, outputs=None):\n",
    "        # inputs.shape == outputs.shape == (BATCH_SIZE, CONTEXT_LEN) == (B, T)\n",
    "        logits = self.emb(inputs)\n",
    "        # logits.shape == (B, T, C), C == vocab_size\n",
    "        B, T, C = logits.shape\n",
    "        \n",
    "        if outputs is None:\n",
    "            loss = None\n",
    "        else:\n",
    "            # .view(...) calls are to work around the F.cross_entropy argument expectations (C should be the second dimension)                    \n",
    "            logits = logits.view(B * T, C)\n",
    "            outputs = outputs.view(B * T)\n",
    "            loss = F.cross_entropy(logits, outputs)\n",
    "        return logits, loss\n",
    "\n",
    "    def generate(self, input_, max_chars_to_generate):\n",
    "        for _ in range(max_chars_to_generate):\n",
    "            logits, _ = self.forward(input_)\n",
    "            # logits.shape == (B, T, C)\n",
    "            logits = logits[:, -1, :]\n",
    "            # logits.shape == (B, C)\n",
    "            probs = F.softmax(logits, dim=1)\n",
    "            next_ = torch.multinomial(probs, num_samples=1)\n",
    "            # next_.shape == (B, 1)\n",
    "            input_ = torch.cat((input_, next_), dim=1)\n",
    "        return input_\n",
    "\n",
    "\n",
    "def train_and_generate(learning_rate=1e-2, num_iterations=1000, verbose=False, prompt=\"\"):\n",
    "    model = BigramModel(len(CHARS))\n",
    "    optimizer = torch.optim.AdamW(model.parameters(), lr=learning_rate)    \n",
    "    for i in range(num_iterations):\n",
    "        inputs, outputs = get_batch(TRAINING_SET)\n",
    "        _, loss = model(inputs, outputs)\n",
    "        if verbose and i % 1000 == 0:\n",
    "            print(f'{loss.item()=}')\n",
    "        optimizer.zero_grad(set_to_none=True)\n",
    "        loss.backward()\n",
    "        optimizer.step()\n",
    "        \n",
    "    text = from_tokens(model.generate(as_tokens(prompt).view(1, -1), max_chars_to_generate=150)[0])\n",
    "    print(f'\\n{text}\\n')\n",
    "    return model\n",
    "\n",
    "\n",
    "MODEL = train_and_generate(verbose=True, num_iterations=10000, prompt=\"Call me\")"
   ]
  },
  {
   "cell_type": "markdown",
   "id": "5f9b23e0-53c3-4dd9-8620-c087de772ae2",
   "metadata": {},
   "source": [
    "We can see that the generated text looks like shit. Let's improve that by using GPT architecture."
   ]
  },
  {
   "cell_type": "code",
   "execution_count": 81,
   "id": "3bc1f138-cecb-4906-8e5f-c269f80beb71",
   "metadata": {},
   "outputs": [
    {
     "name": "stdout",
     "output_type": "stream",
     "text": [
      "loss.item()=4.383978843688965\n",
      "loss.item()=2.34675931930542\n",
      "loss.item()=2.1892449855804443\n",
      "loss.item()=2.0623483657836914\n",
      "loss.item()=1.9102087020874023\n",
      "loss.item()=2.212172746658325\n",
      "loss.item()=2.0802464485168457\n",
      "loss.item()=2.195741653442383\n",
      "loss.item()=1.933051586151123\n",
      "loss.item()=2.0005807876586914\n",
      "loss.item()=2.011009693145752\n",
      "loss.item()=2.0354316234588623\n",
      "loss.item()=1.9687249660491943\n",
      "loss.item()=2.0049242973327637\n",
      "loss.item()=1.8740549087524414\n",
      "loss.item()=2.027743101119995\n",
      "loss.item()=1.8891254663467407\n",
      "loss.item()=1.9559295177459717\n",
      "loss.item()=1.931981086730957\n",
      "loss.item()=1.8831462860107422\n",
      "\n",
      "Call me,\n",
      "be seth of Good the migh metmentery; and bed ha wither unquisy, in yo nor blose, contal I maifs my met gacke a grembint is'ttninether.\n",
      "Reives who:\n",
      "T\n",
      "\n"
     ]
    }
   ],
   "source": [
    "import math\n",
    "\n",
    "class AttentionHead(nn.Module):\n",
    "    # Attention is another word for communication, \n",
    "    def __init__(self, block_size, n_embd, head_size):\n",
    "        super().__init__()\n",
    "\n",
    "        # what token contains\n",
    "        self.key = nn.Linear(n_embd, head_size, bias=False)\n",
    "        \n",
    "        # what token is interested in\n",
    "        self.query = nn.Linear(n_embd, head_size, bias=False)\n",
    "\n",
    "        # what token provides???\n",
    "        self.value = nn.Linear(n_embd, head_size, bias=False)\n",
    "\n",
    "        # register_buffer to avoid training on it\n",
    "        self.register_buffer('tril', torch.tril(torch.ones(block_size, block_size)))\n",
    "        \n",
    "        self.head_size = head_size\n",
    "\n",
    "    def forward(self, inputs):\n",
    "        # inputs.size = B, T, C (num_batches, block_size, num_channels)\n",
    "        # outputs.size = B, T, Head_Size\n",
    "        B, T, C = inputs.shape\n",
    "\n",
    "        # (k|q|v).shape == B, T, head_size\n",
    "        k = self.key(inputs)\n",
    "        q = self.query(inputs)\n",
    "        v = self.value(inputs)\n",
    "\n",
    "        wei = q @ k.transpose(-2, -1) / (self.head_size ** 0.5)\n",
    "        # wei.shape = B, T, T\n",
    "        wei = wei.masked_fill(self.tril[:T, :T] == 0, -math.inf)\n",
    "        wei = F.softmax(wei, dim=2)\n",
    "        return wei @ v\n",
    "\n",
    "\n",
    "class AttentionMultiHead(nn.Module):\n",
    "    # MultiHead just uses separate heads and concatenates them\n",
    "    def __init__(self, block_size, n_embd, head_size, num_heads):\n",
    "        super().__init__()\n",
    "        self.heads = [AttentionHead(block_size=block_size, n_embd=n_embd, head_size=head_size) for _ in range(num_heads)]\n",
    "        self.proj = nn.Linear(num_heads * head_size, n_embd)\n",
    "\n",
    "    def forward(self, inputs):\n",
    "        outputs = [head(inputs) for head in self.heads]\n",
    "        return self.proj(torch.cat(outputs, -1))\n",
    "\n",
    "\n",
    "class FeedForward(nn.Module):\n",
    "    def __init__(self, n_embd):\n",
    "        super().__init__()\n",
    "        self.module = nn.Sequential(\n",
    "            nn.Linear(n_embd, 4 * n_embd),\n",
    "            nn.ReLU(),\n",
    "            nn.Linear(4 * n_embd, n_embd),\n",
    "        )\n",
    "\n",
    "    def forward(self, inputs):\n",
    "        return self.module(inputs)\n",
    "\n",
    "\n",
    "class Block(nn.Module):\n",
    "    def __init__(self, block_size, n_embd, num_heads):\n",
    "        super().__init__()\n",
    "        assert n_embd % num_heads == 0\n",
    "        head_size = n_embd // num_heads\n",
    "        self.multi_head = AttentionMultiHead(n_embd=n_embd, block_size=block_size, num_heads=num_heads, head_size=head_size)\n",
    "        self.ffd = FeedForward(n_embd)\n",
    "        self.ln1 = nn.LayerNorm(n_embd)\n",
    "        self.ln2 = nn.LayerNorm(n_embd)\n",
    "\n",
    "    def forward(self, inputs):\n",
    "        inputs = inputs + self.multi_head(self.ln1(inputs))\n",
    "        inputs = inputs + self.ffd(self.ln2(inputs))\n",
    "        return inputs\n",
    "\n",
    "\n",
    "class GptModel(nn.Module):\n",
    "    def __init__(self, vocab_size, n_embd, block_size, num_heads, num_layers):\n",
    "        super().__init__()\n",
    "        self.token_embeddings = nn.Embedding(vocab_size, n_embd)\n",
    "        # why do we need position embeddings?\n",
    "        self.position_embeddings = nn.Embedding(block_size, n_embd)\n",
    "        self.blocks = nn.Sequential(*[Block(block_size=block_size, n_embd=n_embd, num_heads=num_heads) for _ in range(num_layers)])\n",
    "        self.ln_final = nn.LayerNorm(n_embd)\n",
    "        self.lm_head = nn.Linear(n_embd, vocab_size)\n",
    "\n",
    "    def forward(self, idx, targets=None):\n",
    "        B, T = idx.shape\n",
    "\n",
    "        tok_emb = self.token_embeddings(idx) # (B,T,C)\n",
    "        pos_emb = self.position_embeddings(torch.arange(T)) # (T,C)\n",
    "        x = tok_emb + pos_emb # (B,T,C)\n",
    "        x = self.blocks(x) # (B,T,C)\n",
    "        x = self.ln_final(x) # (B,T,C)\n",
    "        logits = self.lm_head(x) # (B,T,vocab_size)\n",
    "\n",
    "        if targets is None:\n",
    "            loss = None\n",
    "        else:\n",
    "            B, T, C = logits.shape\n",
    "            logits = logits.view(B*T, C)\n",
    "            targets = targets.view(B*T)\n",
    "            loss = F.cross_entropy(logits, targets)\n",
    "\n",
    "        return logits, loss\n",
    "\n",
    "    def generate(self, inputs, block_size, max_chars_to_generate):\n",
    "        for _ in range(max_chars_to_generate):\n",
    "            logits, _ = self.forward(inputs[:, -block_size:])\n",
    "            # logits.shape == (B, T, C)\n",
    "            logits = logits[:, -1, :]\n",
    "            # logits.shape == (B, C)\n",
    "            probs = F.softmax(logits, dim=1)\n",
    "            next_ = torch.multinomial(probs, num_samples=1)\n",
    "            # next_.shape == (B, 1)\n",
    "            inputs = torch.cat((inputs, next_), dim=1)\n",
    "        return inputs\n",
    "\n",
    "\n",
    "\n",
    "def train_and_generate(learning_rate=1e-2, num_iterations=1000, verbose=False, prompt=\"\"):\n",
    "    block_size = 8\n",
    "    model = GptModel(vocab_size=len(CHARS), n_embd=32, block_size=block_size, num_heads=4, num_layers=2)\n",
    "    optimizer = torch.optim.AdamW(model.parameters(), lr=learning_rate)    \n",
    "    for i in range(num_iterations):\n",
    "        inputs, outputs = get_batch(TRAINING_SET)\n",
    "        _, loss = model(inputs, outputs)\n",
    "        if verbose and i % 1000 == 0:\n",
    "            print(f'{loss.item()=}')\n",
    "        optimizer.zero_grad(set_to_none=True)\n",
    "        loss.backward()\n",
    "        optimizer.step()\n",
    "        \n",
    "    text = from_tokens(model.generate(as_tokens(prompt).view(1, -1), max_chars_to_generate=150, block_size=block_size)[0])\n",
    "    print(f'\\n{text}\\n')\n",
    "    return model\n",
    "\n",
    "\n",
    "MODEL = train_and_generate(verbose=True, num_iterations=20000, prompt=\"Call me\")\n",
    "        "
   ]
  },
  {
   "cell_type": "markdown",
   "id": "ccbfb33d-b659-4c75-bce7-f3a4c190fa87",
   "metadata": {},
   "source": [
    "That's not especially good text, and it contains some real words and that's with a pretty small block_size. Also loss is lower with GPT architecture.\n",
    "\n",
    "I don't fully comprehend how does GPT work: key/query/value understanding is very sketchy."
   ]
  }
 ],
 "metadata": {
  "kernelspec": {
   "display_name": "Python 3 (ipykernel)",
   "language": "python",
   "name": "python3"
  },
  "language_info": {
   "codemirror_mode": {
    "name": "ipython",
    "version": 3
   },
   "file_extension": ".py",
   "mimetype": "text/x-python",
   "name": "python",
   "nbconvert_exporter": "python",
   "pygments_lexer": "ipython3",
   "version": "3.9.6"
  }
 },
 "nbformat": 4,
 "nbformat_minor": 5
}
